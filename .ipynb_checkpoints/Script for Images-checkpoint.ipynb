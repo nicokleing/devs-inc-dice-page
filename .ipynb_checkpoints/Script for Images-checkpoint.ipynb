{
 "cells": [
  {
   "cell_type": "code",
   "execution_count": 5,
   "id": "8ace8487",
   "metadata": {},
   "outputs": [
    {
     "name": "stdout",
     "output_type": "stream",
     "text": [
      "Collecting python-pptx\n",
      "  Obtaining dependency information for python-pptx from https://files.pythonhosted.org/packages/72/49/6eee83072983473e9905ffddd5c2032b9a0ca4616425560d6d582287b467/python_pptx-0.6.23-py3-none-any.whl.metadata\n",
      "  Downloading python_pptx-0.6.23-py3-none-any.whl.metadata (18 kB)\n",
      "Requirement already satisfied: lxml>=3.1.0 in c:\\programdata\\anaconda3\\lib\\site-packages (from python-pptx) (4.9.3)\n",
      "Requirement already satisfied: Pillow>=3.3.2 in c:\\programdata\\anaconda3\\lib\\site-packages (from python-pptx) (9.4.0)\n",
      "Collecting XlsxWriter>=0.5.7 (from python-pptx)\n",
      "  Obtaining dependency information for XlsxWriter>=0.5.7 from https://files.pythonhosted.org/packages/a7/ea/53d1fe468e63e092cf16e2c18d16f50c29851242f9dd12d6a66e0d7f0d02/XlsxWriter-3.2.0-py3-none-any.whl.metadata\n",
      "  Downloading XlsxWriter-3.2.0-py3-none-any.whl.metadata (2.6 kB)\n",
      "Downloading python_pptx-0.6.23-py3-none-any.whl (471 kB)\n",
      "   ---------------------------------------- 0.0/471.6 kB ? eta -:--:--\n",
      "   --- ----------------------------------- 41.0/471.6 kB 991.0 kB/s eta 0:00:01\n",
      "   -------------------------- ------------- 317.4/471.6 kB 3.9 MB/s eta 0:00:01\n",
      "   ---------------------------------------- 471.6/471.6 kB 5.0 MB/s eta 0:00:00\n",
      "Downloading XlsxWriter-3.2.0-py3-none-any.whl (159 kB)\n",
      "   ---------------------------------------- 0.0/159.9 kB ? eta -:--:--\n",
      "   ---------------------------------------- 159.9/159.9 kB ? eta 0:00:00\n",
      "Installing collected packages: XlsxWriter, python-pptx\n",
      "Successfully installed XlsxWriter-3.2.0 python-pptx-0.6.23\n",
      "Note: you may need to restart the kernel to use updated packages.\n"
     ]
    }
   ],
   "source": [
    "pip install python-pptx"
   ]
  },
  {
   "cell_type": "code",
   "execution_count": 30,
   "id": "f17c1fb1",
   "metadata": {},
   "outputs": [],
   "source": [
    "from pptx import Presentation\n",
    "from PIL import Image, ImageDraw\n",
    "from io import BytesIO\n",
    "\n",
    "def save_slides_as_images(pptx_file, output_folder, image_size=(1920, 1080), quality=95):\n",
    "    prs = Presentation(pptx_file)\n",
    "    for i, slide in enumerate(prs.slides):\n",
    "        img = Image.new(\"RGB\", image_size, color=\"white\")  # Inicializar la imagen con fondo blanco\n",
    "        draw = ImageDraw.Draw(img)\n",
    "        for shape in slide.shapes:\n",
    "            if shape.shape_type == 13:  # Verificar si es una imagen (código 13)\n",
    "                image = shape.image\n",
    "                image_bytes = image.blob\n",
    "                with BytesIO(image_bytes) as image_stream:\n",
    "                    image = Image.open(image_stream)\n",
    "                    # Escalar la imagen al tamaño deseado y pegarla en la imagen principal\n",
    "                    image = image.resize(image_size)\n",
    "                    img.paste(image, (0, 0))\n",
    "        # Guardar la imagen con una alta calidad\n",
    "        img.save(f\"{output_folder}/d{i+1}.png\", quality=quality)\n",
    "\n",
    "# Ejemplo de uso:\n",
    "save_slides_as_images(\"presentation.pptx\", \"output_folder\", image_size=(1920, 1080), quality=95)\n"
   ]
  },
  {
   "cell_type": "code",
   "execution_count": 27,
   "id": "362a9f3e",
   "metadata": {},
   "outputs": [],
   "source": [
    "from PIL import Image\n",
    "import os\n",
    "\n",
    "def remove_background_from_folder(input_folder, output_folder):\n",
    "    # Verificar si la carpeta de salida existe, si no, crearla\n",
    "    if not os.path.exists(output_folder):\n",
    "        os.makedirs(output_folder)\n",
    "\n",
    "    # Obtener la lista de archivos PNG dentro de la carpeta especificada\n",
    "    png_files = [file for file in os.listdir(input_folder) if file.endswith(\".png\")]\n",
    "\n",
    "    # Iterar sobre cada archivo PNG y eliminar el fondo\n",
    "    for file in png_files:\n",
    "        input_image_path = os.path.join(input_folder, file)\n",
    "        output_image_path = os.path.join(output_folder, file)\n",
    "        remove_background(input_image_path, output_image_path)\n",
    "\n",
    "def remove_background(input_image_path, output_image_path):\n",
    "    # Abrir la imagen\n",
    "    image = Image.open(input_image_path)\n",
    "    \n",
    "    # Convertir la imagen a modo RGBA (necesario para manipular el canal alfa)\n",
    "    image = image.convert(\"RGBA\")\n",
    "    \n",
    "    # Obtener los datos de píxel de la imagen\n",
    "    data = image.getdata()\n",
    "    \n",
    "    # Crear una nueva lista de píxeles con el fondo eliminado\n",
    "    new_data = []\n",
    "    for item in data:\n",
    "        # Si el píxel es transparente (alfa = 0), mantenerlo transparente\n",
    "        if item[:3] == (255, 255, 255):\n",
    "            new_data.append((255, 255, 255, 0))\n",
    "        else:\n",
    "            new_data.append(item)\n",
    "    \n",
    "    # Actualizar los datos de píxel de la imagen\n",
    "    image.putdata(new_data)\n",
    "    \n",
    "    # Guardar la imagen resultante\n",
    "    image.save(output_image_path, \"PNG\")\n",
    "\n",
    "# Ejemplo de uso\n",
    "remove_background_from_folder(\"output_folder\", \"output_folder_with_transparency\")\n"
   ]
  },
  {
   "cell_type": "code",
   "execution_count": null,
   "id": "047e02f1",
   "metadata": {},
   "outputs": [],
   "source": []
  },
  {
   "cell_type": "code",
   "execution_count": 32,
   "id": "defc12ff",
   "metadata": {},
   "outputs": [
    {
     "name": "stdout",
     "output_type": "stream",
     "text": [
      "Collecting removebg\n",
      "  Downloading removebg-0.04.tar.gz (2.2 kB)\n",
      "  Preparing metadata (setup.py): started\n",
      "  Preparing metadata (setup.py): finished with status 'done'\n",
      "Requirement already satisfied: requests in c:\\programdata\\anaconda3\\lib\\site-packages (from removebg) (2.31.0)\n",
      "Requirement already satisfied: charset-normalizer<4,>=2 in c:\\programdata\\anaconda3\\lib\\site-packages (from requests->removebg) (2.0.4)\n",
      "Requirement already satisfied: idna<4,>=2.5 in c:\\programdata\\anaconda3\\lib\\site-packages (from requests->removebg) (3.4)\n",
      "Requirement already satisfied: urllib3<3,>=1.21.1 in c:\\programdata\\anaconda3\\lib\\site-packages (from requests->removebg) (1.26.16)\n",
      "Requirement already satisfied: certifi>=2017.4.17 in c:\\programdata\\anaconda3\\lib\\site-packages (from requests->removebg) (2023.7.22)\n",
      "Building wheels for collected packages: removebg\n",
      "  Building wheel for removebg (setup.py): started\n",
      "  Building wheel for removebg (setup.py): finished with status 'done'\n",
      "  Created wheel for removebg: filename=removebg-0.4-py3-none-any.whl size=2561 sha256=dd2aed62d3392f18456c28cce34ba446bddea44861c5422783e8e3abbe35e8df\n",
      "  Stored in directory: c:\\users\\nicol\\appdata\\local\\pip\\cache\\wheels\\3e\\7a\\1b\\845e85e64649ebb401eec5d1779af7ff8ab94801097f848885\n",
      "Successfully built removebg\n",
      "Installing collected packages: removebg\n",
      "Successfully installed removebg-0.4\n",
      "Note: you may need to restart the kernel to use updated packages.\n"
     ]
    }
   ],
   "source": [
    "pip install removebg"
   ]
  },
  {
   "cell_type": "code",
   "execution_count": 36,
   "id": "b82186b7",
   "metadata": {},
   "outputs": [],
   "source": [
    "import os\n",
    "from removebg import RemoveBg\n",
    "\n",
    "def remove_background_from_folder(input_folder, output_folder, api_key):\n",
    "    # Verificar si la carpeta de salida existe, si no, crearla\n",
    "    if not os.path.exists(output_folder):\n",
    "        os.makedirs(output_folder)\n",
    "\n",
    "    # Crear una instancia del objeto RemoveBg con la clave de API\n",
    "    remover = RemoveBg(api_key, \"error.log\")\n",
    "\n",
    "    # Obtener la lista de archivos PNG dentro de la carpeta de entrada\n",
    "    png_files = [file for file in os.listdir(input_folder) if file.endswith(\".png\")]\n",
    "\n",
    "    # Iterar sobre cada archivo PNG y eliminar el fondo\n",
    "    for file in png_files:\n",
    "        input_image_path = os.path.join(input_folder, file)\n",
    "        output_image_path = os.path.join(output_folder, file)\n",
    "        remove_background(remover, input_image_path, output_image_path)\n",
    "\n",
    "def remove_background(remover, input_image_path, output_image_path):\n",
    "    # Eliminar el fondo de la imagen utilizando la instancia de RemoveBg\n",
    "    remover.remove_background_from_img_file(input_image_path, size=\"regular\")\n",
    "    # Renombrar la imagen resultante\n",
    "    os.rename(input_image_path + \".no_bg.png\", output_image_path)\n",
    "\n",
    "# Ejemplo de uso\n",
    "api_key = \"itWjKDR7wiFtNBeYdXMN3Cqs\"\n",
    "input_folder = \"input_folder\"\n",
    "output_folder = \"output_folder_with_transparency\"\n",
    "remove_background_from_folder(input_folder, output_folder, api_key)\n"
   ]
  },
  {
   "cell_type": "code",
   "execution_count": null,
   "id": "ea1e5f5e",
   "metadata": {},
   "outputs": [],
   "source": []
  }
 ],
 "metadata": {
  "kernelspec": {
   "display_name": "Python 3 (ipykernel)",
   "language": "python",
   "name": "python3"
  },
  "language_info": {
   "codemirror_mode": {
    "name": "ipython",
    "version": 3
   },
   "file_extension": ".py",
   "mimetype": "text/x-python",
   "name": "python",
   "nbconvert_exporter": "python",
   "pygments_lexer": "ipython3",
   "version": "3.11.5"
  }
 },
 "nbformat": 4,
 "nbformat_minor": 5
}
